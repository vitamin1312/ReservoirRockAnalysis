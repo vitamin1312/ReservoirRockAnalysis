{
 "cells": [
  {
   "cell_type": "code",
   "execution_count": null,
   "id": "cf7e0c4a",
   "metadata": {},
   "outputs": [],
   "source": [
    "import pandas as pd\n",
    "from utils.metadataIO import load_json\n",
    "import numpy as np"
   ]
  },
  {
   "cell_type": "code",
   "execution_count": null,
   "id": "94ee3b1f",
   "metadata": {},
   "outputs": [],
   "source": [
    "np.random.seed(42)"
   ]
  },
  {
   "cell_type": "code",
   "execution_count": null,
   "id": "0ac209bc",
   "metadata": {},
   "outputs": [],
   "source": [
    "porosty_file = r\"C:\\Users\\Viktor\\Documents\\IT\\ReservoirRockAnalysis\\src\\metadata\\porosty_info.json\"\n",
    "porosty = load_json(porosty_file)\n",
    "NUM_CLASSES = len(porosty[0]['classes'])"
   ]
  },
  {
   "cell_type": "code",
   "execution_count": null,
   "id": "64e24197",
   "metadata": {},
   "outputs": [],
   "source": [
    "path_to_data = r\"C:\\Users\\Viktor\\Documents\\IT\\ReservoirRockAnalysis\\src\\metadata\\masks_info.xlsx\"\n",
    "\n",
    "classes = pd.read_excel(path_to_data)\n",
    "percents = [f'class{i}' for i in range(NUM_CLASSES)]\n",
    "cols = percents + ['name']\n",
    "classes = classes[cols].copy()\n",
    "classes"
   ]
  },
  {
   "cell_type": "code",
   "execution_count": null,
   "id": "8f0fbfee",
   "metadata": {},
   "outputs": [],
   "source": [
    "classes[percents].mean()"
   ]
  },
  {
   "cell_type": "code",
   "execution_count": null,
   "id": "6f6c7cc6",
   "metadata": {},
   "outputs": [],
   "source": [
    "percents = percents[2:]\n",
    "percents"
   ]
  },
  {
   "cell_type": "code",
   "execution_count": null,
   "id": "83e7e2b0",
   "metadata": {},
   "outputs": [],
   "source": [
    "labels = classes[percents[0]].astype(str)\n",
    "for p in percents[1:]:\n",
    "    labels += classes[p].astype(str)\n",
    "classes['label'] = labels\n",
    "unique_labels = classes['label'].unique()\n",
    "unique_labels"
   ]
  },
  {
   "cell_type": "code",
   "execution_count": null,
   "id": "24d62b7d",
   "metadata": {},
   "outputs": [],
   "source": [
    "train_dataset = []\n",
    "test_dataset = []\n",
    "\n",
    "for label in unique_labels:\n",
    "    all_data = classes[classes['label'] == label]\n",
    "    all_data = all_data.copy()  # чтобы избежать SettingWithCopyWarning\n",
    "    \n",
    "    if len(all_data) == 1:\n",
    "        train_dataset += all_data[cols].to_dict(orient='records')\n",
    "    else:\n",
    "        indices = np.random.permutation(len(all_data))\n",
    "        n_train = int(len(all_data) * 0.8)\n",
    "        train_idx = indices[:n_train]\n",
    "        test_idx = indices[n_train:]\n",
    "        \n",
    "        train_dataset += all_data.iloc[train_idx][cols].to_dict(orient='records')\n",
    "        test_dataset += all_data.iloc[test_idx][cols].to_dict(orient='records')"
   ]
  },
  {
   "cell_type": "code",
   "execution_count": null,
   "id": "cc78d5cf",
   "metadata": {},
   "outputs": [],
   "source": [
    "path_to_folder = r'C:\\Users\\Viktor\\Documents\\IT\\ReservoirRockAnalysis\\data\\train-test'"
   ]
  },
  {
   "cell_type": "code",
   "execution_count": null,
   "id": "d82f7c1e",
   "metadata": {},
   "outputs": [],
   "source": [
    "train_data, test_data = pd.DataFrame(train_dataset), pd.DataFrame(test_dataset)\n",
    "train_data.to_excel(path_to_folder + '\\\\' + 'balanced-train-data.xlsx', index=False)\n",
    "test_data.to_excel(path_to_folder + '\\\\' + 'balanced-test-data.xlsx', index=False)"
   ]
  },
  {
   "cell_type": "code",
   "execution_count": null,
   "id": "e40078db",
   "metadata": {},
   "outputs": [],
   "source": [
    "train_data"
   ]
  },
  {
   "cell_type": "code",
   "execution_count": null,
   "id": "b28f7c65",
   "metadata": {},
   "outputs": [],
   "source": [
    "test_data"
   ]
  },
  {
   "cell_type": "code",
   "execution_count": null,
   "id": "4977307d",
   "metadata": {},
   "outputs": [],
   "source": []
  }
 ],
 "metadata": {
  "language_info": {
   "name": "python"
  }
 },
 "nbformat": 4,
 "nbformat_minor": 5
}
