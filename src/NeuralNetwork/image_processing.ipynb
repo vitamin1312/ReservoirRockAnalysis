{
 "cells": [
  {
   "cell_type": "code",
   "execution_count": null,
   "metadata": {},
   "outputs": [],
   "source": [
    "from PIL import Image\n",
    "import numpy as np\n",
    "from matplotlib import pyplot as plt\n",
    "import cv2\n",
    "import json"
   ]
  },
  {
   "cell_type": "code",
   "execution_count": null,
   "metadata": {},
   "outputs": [],
   "source": [
    "def load_json(file_path):\n",
    "    with open(file_path, 'r', encoding='utf-8') as file:\n",
    "        data = json.load(file)\n",
    "    return data"
   ]
  },
  {
   "cell_type": "code",
   "execution_count": null,
   "metadata": {},
   "outputs": [],
   "source": [
    "im = Image.open(r'C:\\Users\\Viktor\\Documents\\IT\\ReservoirRockAnalysis\\data\\Имидж_АиВТ\\Сихор_32101\\Сихор imagemasks\\318261_1.png')\n",
    "im"
   ]
  },
  {
   "cell_type": "code",
   "execution_count": null,
   "metadata": {},
   "outputs": [],
   "source": [
    "image = np.array(im)\n",
    "\n",
    "condition = ~(image[:, :, 3] == 0)\n",
    "conds = np.stack([condition for _ in range(4)], axis=-1)\n",
    "image = np.where(conds, image, 0)\n",
    "image.shape"
   ]
  },
  {
   "cell_type": "code",
   "execution_count": null,
   "metadata": {},
   "outputs": [],
   "source": [
    "img = cv2.cvtColor(image, cv2.COLOR_RGBA2RGB)\n",
    "plt.imshow(img)"
   ]
  },
  {
   "cell_type": "code",
   "execution_count": null,
   "metadata": {},
   "outputs": [],
   "source": [
    "colors_file = r\"C:\\Users\\Viktor\\Documents\\IT\\ReservoirRockAnalysis\\src\\metadata\\rgb_colors.json\"\n",
    "porosty_file = r\"C:\\Users\\Viktor\\Documents\\IT\\ReservoirRockAnalysis\\src\\metadata\\porosty_info.json\"\n",
    "\n",
    "colors = load_json(colors_file)\n",
    "porosty = load_json(porosty_file)"
   ]
  },
  {
   "cell_type": "code",
   "execution_count": null,
   "metadata": {},
   "outputs": [],
   "source": []
  },
  {
   "cell_type": "code",
   "execution_count": null,
   "metadata": {},
   "outputs": [],
   "source": [
    "colors_file = r\"C:\\Users\\Viktor\\Documents\\IT\\ReservoirRockAnalysis\\src\\metadata\\rgb_colors.json\"\n",
    "porosty_file = r\"C:\\Users\\Viktor\\Documents\\IT\\ReservoirRockAnalysis\\src\\metadata\\porosty_info.json\"\n",
    "\n",
    "colors = load_json(colors_file)\n",
    "porosty = load_json(porosty_file)"
   ]
  },
  {
   "cell_type": "code",
   "execution_count": null,
   "metadata": {},
   "outputs": [],
   "source": [
    "colors"
   ]
  },
  {
   "cell_type": "code",
   "execution_count": null,
   "metadata": {},
   "outputs": [],
   "source": [
    "porosty"
   ]
  },
  {
   "cell_type": "code",
   "execution_count": null,
   "metadata": {},
   "outputs": [],
   "source": [
    "indexed_colors = [{'color_value': np.array(colors[c['color']]),\n",
    "                  'index': c['index']}\n",
    "                    for c in porosty[0]['classes']]\n",
    "indexed_colors"
   ]
  },
  {
   "cell_type": "code",
   "execution_count": null,
   "metadata": {},
   "outputs": [],
   "source": [
    "mask = np.zeros_like(image[:, :, 0])\n",
    "\n",
    "for elem in indexed_colors:\n",
    "    condition = np.all(img == elem['color_value'], axis=-1)\n",
    "    mask = np.where(condition, elem['index'], mask)"
   ]
  },
  {
   "cell_type": "code",
   "execution_count": null,
   "metadata": {},
   "outputs": [],
   "source": [
    "# plot with heatmap\n",
    "\n",
    "plt.imshow(mask * (255 // 5), cmap='viridis');"
   ]
  }
 ],
 "metadata": {
  "kernelspec": {
   "display_name": ".venv",
   "language": "python",
   "name": "python3"
  },
  "language_info": {
   "codemirror_mode": {
    "name": "ipython",
    "version": 3
   },
   "file_extension": ".py",
   "mimetype": "text/x-python",
   "name": "python",
   "nbconvert_exporter": "python",
   "pygments_lexer": "ipython3",
   "version": "3.11.0"
  }
 },
 "nbformat": 4,
 "nbformat_minor": 2
}
