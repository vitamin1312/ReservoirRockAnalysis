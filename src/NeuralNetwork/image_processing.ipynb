{
 "cells": [
  {
   "cell_type": "markdown",
   "metadata": {},
   "source": [
    "# Libraries"
   ]
  },
  {
   "cell_type": "code",
   "execution_count": null,
   "metadata": {},
   "outputs": [],
   "source": [
    "from PIL import Image\n",
    "import numpy as np\n",
    "from matplotlib import pyplot as plt\n",
    "import cv2\n",
    "import json\n",
    "from glob import glob\n",
    "import os\n",
    "import tqdm\n",
    "from collections import defaultdict\n",
    "import pandas as pd\n",
    "from utils import read_img"
   ]
  },
  {
   "cell_type": "markdown",
   "metadata": {},
   "source": [
    "# Metadata"
   ]
  },
  {
   "cell_type": "code",
   "execution_count": null,
   "metadata": {},
   "outputs": [],
   "source": [
    "format = '.png'"
   ]
  },
  {
   "cell_type": "code",
   "execution_count": null,
   "metadata": {},
   "outputs": [],
   "source": [
    "def load_json(file_path):\n",
    "    with open(file_path, 'r', encoding='utf-8') as file:\n",
    "        data = json.load(file)\n",
    "    return data"
   ]
  },
  {
   "cell_type": "code",
   "execution_count": null,
   "metadata": {},
   "outputs": [],
   "source": [
    "colors_file = r\"C:\\Users\\Viktor\\Documents\\IT\\ReservoirRockAnalysis\\src\\metadata\\rgb_colors.json\"\n",
    "porosty_file = r\"C:\\Users\\Viktor\\Documents\\IT\\ReservoirRockAnalysis\\src\\metadata\\porosty_info.json\"\n",
    "\n",
    "colors = load_json(colors_file)\n",
    "porosty = load_json(porosty_file)"
   ]
  },
  {
   "cell_type": "code",
   "execution_count": null,
   "metadata": {},
   "outputs": [],
   "source": [
    "colors_file = r\"C:\\Users\\Viktor\\Documents\\IT\\ReservoirRockAnalysis\\src\\metadata\\rgb_colors.json\"\n",
    "porosty_file = r\"C:\\Users\\Viktor\\Documents\\IT\\ReservoirRockAnalysis\\src\\metadata\\porosty_info.json\"\n",
    "\n",
    "colors = load_json(colors_file)\n",
    "porosty = load_json(porosty_file)"
   ]
  },
  {
   "cell_type": "code",
   "execution_count": null,
   "metadata": {},
   "outputs": [],
   "source": [
    "colors"
   ]
  },
  {
   "cell_type": "code",
   "execution_count": null,
   "metadata": {},
   "outputs": [],
   "source": [
    "porosty"
   ]
  },
  {
   "cell_type": "code",
   "execution_count": null,
   "metadata": {},
   "outputs": [],
   "source": [
    "indexed_colors = [{'color_value': np.array(colors[c['color']]),\n",
    "                  'index': c['index']}\n",
    "                    for c in porosty[0]['classes']]\n",
    "indexed_colors"
   ]
  },
  {
   "cell_type": "code",
   "execution_count": null,
   "metadata": {},
   "outputs": [],
   "source": [
    "NUM_CLASSES = len(porosty[0]['classes'])"
   ]
  },
  {
   "cell_type": "markdown",
   "metadata": {},
   "source": [
    "# Processing functions"
   ]
  },
  {
   "cell_type": "code",
   "execution_count": null,
   "metadata": {},
   "outputs": [],
   "source": [
    "unique = {0, 255}\n",
    "\n",
    "def convert2rgb(image):\n",
    "    image = np.array(image)\n",
    "    image = np.where(image < 128, 0, 255)\n",
    "    condition = ~(image[:, :, 3] == 0)\n",
    "    conds = np.stack([condition for _ in range(4)], axis=-1)\n",
    "    image = np.where(conds, image, 0)\n",
    "    return cv2.cvtColor(image.astype(np.uint8), cv2.COLOR_RGBA2RGB)"
   ]
  },
  {
   "cell_type": "code",
   "execution_count": null,
   "metadata": {},
   "outputs": [],
   "source": [
    "def convert2mask(image):\n",
    "    mask = np.zeros_like(image[:, :, 0])\n",
    "\n",
    "    for elem in indexed_colors:\n",
    "        condition = np.all(image == elem['color_value'], axis=-1)\n",
    "        mask = np.where(condition, elem['index'], mask)\n",
    "    return mask"
   ]
  },
  {
   "cell_type": "markdown",
   "metadata": {},
   "source": [
    "# Pipeline example"
   ]
  },
  {
   "cell_type": "code",
   "execution_count": null,
   "metadata": {},
   "outputs": [],
   "source": [
    "im = Image.open(r\"C:\\Users\\Viktor\\Documents\\IT\\ReservoirRockAnalysis\\data\\Имидж_АиВТ\\Ю.Сюрхар\\image_masks\\351348_4.png\")\n",
    "im"
   ]
  },
  {
   "cell_type": "code",
   "execution_count": null,
   "metadata": {},
   "outputs": [],
   "source": [
    "img = convert2rgb(im)\n",
    "plt.figure(figsize=(20, 20))\n",
    "plt.imshow(img);"
   ]
  },
  {
   "cell_type": "code",
   "execution_count": null,
   "metadata": {},
   "outputs": [],
   "source": [
    "mask = convert2mask(img)\n",
    "plt.imshow(mask * (255 // 5), cmap='viridis');"
   ]
  },
  {
   "cell_type": "code",
   "execution_count": null,
   "metadata": {},
   "outputs": [],
   "source": [
    "mask_im = Image.fromarray(mask * 10)\n",
    "mask_im"
   ]
  },
  {
   "cell_type": "code",
   "execution_count": null,
   "metadata": {},
   "outputs": [],
   "source": [
    "mask_im.save('test.png')"
   ]
  },
  {
   "cell_type": "code",
   "execution_count": null,
   "metadata": {},
   "outputs": [],
   "source": [
    "mask_readed = Image.open(\"test.png\")\n",
    "mask_readed = np.array(mask_readed)\n",
    "mask_readed.shape"
   ]
  },
  {
   "cell_type": "code",
   "execution_count": null,
   "metadata": {},
   "outputs": [],
   "source": [
    "np.unique(mask_readed)"
   ]
  },
  {
   "cell_type": "markdown",
   "metadata": {},
   "source": [
    "# Images processing"
   ]
  },
  {
   "cell_type": "code",
   "execution_count": null,
   "metadata": {},
   "outputs": [],
   "source": [
    "image_mask_and_mask_paths = {\n",
    "    r\"C:\\Users\\Viktor\\Documents\\IT\\ReservoirRockAnalysis\\data\\Имидж_АиВТ\\Ю.Сюрхар\\image_masks\":\n",
    "    r\"C:\\Users\\Viktor\\Documents\\IT\\ReservoirRockAnalysis\\data\\Имидж_АиВТ\\Ю.Сюрхар\\masks\",\n",
    "\n",
    "    r\"C:\\Users\\Viktor\\Documents\\IT\\ReservoirRockAnalysis\\data\\Имидж_АиВТ\\Сихор_32101\\image_masks\":\n",
    "    r\"C:\\Users\\Viktor\\Documents\\IT\\ReservoirRockAnalysis\\data\\Имидж_АиВТ\\Сихор_32101\\masks\"\n",
    "}"
   ]
  },
  {
   "cell_type": "code",
   "execution_count": null,
   "metadata": {},
   "outputs": [],
   "source": [
    "# for image_mask_path, mask_path in image_mask_and_mask_paths.items():\n",
    "\n",
    "#     assert os.path.exists(image_mask_path), f\"Path {mask_path} does not exist\"\n",
    "\n",
    "#     paths = glob(image_mask_path + r'\\*.png')\n",
    "#     for path in tqdm.tqdm(paths, total=len(paths)):\n",
    "#         image_name = os.path.basename(path)\n",
    "#         try:\n",
    "#             mask = convert2mask(\n",
    "#                 convert2rgb(\n",
    "#                     Image.open(path)\n",
    "#                 )\n",
    "#             )\n",
    "#             mask = Image.fromarray(mask)\n",
    "#         except Exception as e:\n",
    "#             print(f'Error \"{e}\" with image {image_name}')\n",
    "#             break\n",
    "#         mask.save(mask_path + '\\\\' + image_name)"
   ]
  },
  {
   "cell_type": "markdown",
   "metadata": {},
   "source": [
    "# Masks Analisys"
   ]
  },
  {
   "cell_type": "code",
   "execution_count": null,
   "metadata": {},
   "outputs": [],
   "source": [
    "mask_paths = (\n",
    "    glob(r\"C:\\Users\\Viktor\\Documents\\IT\\ReservoirRockAnalysis\\data\\Images\\Sihor\\masks\\*.png\")\n",
    "    +\n",
    "    glob(r\"C:\\Users\\Viktor\\Documents\\IT\\ReservoirRockAnalysis\\data\\Images\\Surhar\\masks\\*.png\")\n",
    ")\n",
    "len(mask_paths)"
   ]
  },
  {
   "cell_type": "code",
   "execution_count": null,
   "metadata": {},
   "outputs": [],
   "source": [
    "info_fields = ['name'] + [f'class{i}' for i in range(NUM_CLASSES)] + [f'class{i}Percent' for i in range(NUM_CLASSES)]\n",
    "info_fields"
   ]
  },
  {
   "cell_type": "code",
   "execution_count": null,
   "metadata": {},
   "outputs": [],
   "source": [
    "info = defaultdict(list)"
   ]
  },
  {
   "cell_type": "code",
   "execution_count": null,
   "metadata": {},
   "outputs": [],
   "source": [
    "pd.DataFrame(info)"
   ]
  },
  {
   "cell_type": "code",
   "execution_count": null,
   "metadata": {},
   "outputs": [],
   "source": [
    "def get_mask_info(mask_path: str) -> dict:\n",
    "    mask = read_img(mask_path, rgb=False)\n",
    "    num_pixels = mask.shape[0] * mask.shape[1]\n",
    "    info = {'name': os.path.basename(mask_path)}\n",
    "    \n",
    "    for class_index in range(NUM_CLASSES):\n",
    "        class_percentage = (mask == class_index).sum() / num_pixels * 100\n",
    "        info[f'class{class_index}'] = class_percentage != 0\n",
    "        info[f'class{class_index}Percent'] = class_percentage\n",
    "    return info\n",
    "    "
   ]
  },
  {
   "cell_type": "code",
   "execution_count": null,
   "metadata": {},
   "outputs": [],
   "source": [
    "masks_info = list()\n",
    "for mask_path in tqdm.tqdm(mask_paths, total=len(mask_paths)):\n",
    "    masks_info.append(get_mask_info(mask_path))\n",
    "masks_info"
   ]
  },
  {
   "cell_type": "code",
   "execution_count": null,
   "metadata": {},
   "outputs": [],
   "source": [
    "classes_i = [f'class{i}' for i in range(NUM_CLASSES)]\n",
    "\n",
    "masks_info_df = pd.DataFrame(masks_info)[info_fields]\n",
    "masks_info_df[classes_i] = masks_info_df[classes_i].astype(int)\n",
    "masks_info_df"
   ]
  },
  {
   "cell_type": "code",
   "execution_count": null,
   "metadata": {},
   "outputs": [],
   "source": [
    "masks_info_df[info_fields[1:]].mean()"
   ]
  },
  {
   "cell_type": "code",
   "execution_count": null,
   "metadata": {},
   "outputs": [],
   "source": [
    "masks_info_df[info_fields[1:]].std()"
   ]
  },
  {
   "cell_type": "code",
   "execution_count": null,
   "metadata": {},
   "outputs": [],
   "source": [
    "masks_info_df.loc[(masks_info_df['class4'] != 0) & (masks_info_df['class5'] != 0)]"
   ]
  },
  {
   "cell_type": "code",
   "execution_count": null,
   "metadata": {},
   "outputs": [],
   "source": [
    "masks_info_df.to_excel(r\"C:\\Users\\Viktor\\Documents\\IT\\ReservoirRockAnalysis\\src\\metadata\\masks_info.xlsx\")"
   ]
  },
  {
   "cell_type": "code",
   "execution_count": null,
   "metadata": {},
   "outputs": [],
   "source": []
  }
 ],
 "metadata": {
  "language_info": {
   "name": "python"
  }
 },
 "nbformat": 4,
 "nbformat_minor": 2
}
