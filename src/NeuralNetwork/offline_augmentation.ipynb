{
 "cells": [
  {
   "cell_type": "markdown",
   "id": "02a50516",
   "metadata": {},
   "source": [
    "# Self-supervised learning augmentations"
   ]
  },
  {
   "cell_type": "code",
   "execution_count": null,
   "id": "5c17c40a",
   "metadata": {},
   "outputs": [],
   "source": [
    "import albumentations as A\n",
    "from utils.imageIO import read_img\n",
    "import pandas as pd\n",
    "import cv2 # todo: move save to utils\n",
    "import os\n",
    "from tqdm import tqdm"
   ]
  },
  {
   "cell_type": "code",
   "execution_count": null,
   "id": "7110485a",
   "metadata": {},
   "outputs": [],
   "source": [
    "TARGET_SIZE = 2048\n",
    "\n",
    "all_images_pipeline = A.Compose(\n",
    "    [\n",
    "        # 1. Initial Resizing/Cropping (Choose one strategy)\n",
    "        A.RandomResizedCrop(size=(TARGET_SIZE, TARGET_SIZE), scale=(0.9, 1), ratio=(0.95, 1.05), p=1.0),\n",
    "\n",
    "        # 2. Basic Geometric\n",
    "        A.D4(p=0.5),\n",
    "\n",
    "        # 3. Affine\n",
    "        A.Affine(\n",
    "            rotate=(-15, 15),\n",
    "            translate_percent=(-0.05, 0.05),\n",
    "            shear=(-5, 5),\n",
    "            p=0.6\n",
    "        ),\n",
    "\n",
    "        # 9. Distortion (Use if relevant to domain)\n",
    "        A.ElasticTransform(alpha=0.3, sigma=30, p=0.5),\n",
    "    ]\n",
    ")\n",
    "\n",
    "gray_images_pipeline = A.Compose(\n",
    "    [\n",
    "        # 4. Dropout / Occlusion\n",
    "        A.OneOf([\n",
    "            A.CoarseDropout(num_holes_range=(1, 4), hole_height_range=(0.05, 0.15), hole_width_range=(0.05, 0.15), fill_value=0, p=0.8),\n",
    "            A.GridDropout(ratio=0.3, unit_size_range=(10, 20), p=0.4),\n",
    "        ], p=0.4),  # Меньше вероятность применения\n",
    "\n",
    "        # 5. Color Space / Type Reduction\n",
    "        # A.ToGray(p=1), Applies later\n",
    "\n",
    "        # 6. Color Augmentations (Brightness, Contrast, Saturation, Hue)\n",
    "        A.OneOf([\n",
    "            A.RandomBrightnessContrast(brightness_limit=0.1, contrast_limit=0.1, p=0.7),\n",
    "            A.ColorJitter(brightness=0.1, contrast=0.1, saturation=0.1, hue=0.05, p=0.7),\n",
    "            A.HueSaturationValue(hue_shift_limit=10, sat_shift_limit=20, val_shift_limit=10, p=0.7),\n",
    "            A.RandomGamma(gamma_limit=(90, 110), p=0.7),\n",
    "        ], p=0.6),\n",
    "\n",
    "        # 7. Blur\n",
    "        A.OneOf([\n",
    "            A.GaussianBlur(blur_limit=(1, 3), p=0.4),\n",
    "            A.MedianBlur(blur_limit=3, p=0.4),\n",
    "        ], p=0.3),\n",
    "\n",
    "        # 8. Noise\n",
    "        A.OneOf([\n",
    "            A.GaussNoise(std_range=(0.02, 0.05), p=0.3),\n",
    "            A.MultiplicativeNoise(multiplier=(0.95, 1.05), per_channel=True, p=0.3),\n",
    "            A.SaltAndPepper(p=0.3)\n",
    "        ], p=0.3),\n",
    "\n",
    "        # 10. Compression / Downscaling Artifacts\n",
    "        A.OneOf([\n",
    "            A.ImageCompression(quality_range=(5, 15), p=0.3),\n",
    "            A.Downscale(scale_range=(0.4, 0.6), p=0.4),\n",
    "        ], p=0.1)  # Меньше вероятность применения\n",
    "    ]\n",
    ")"
   ]
  },
  {
   "cell_type": "code",
   "execution_count": null,
   "id": "3206e7f1",
   "metadata": {},
   "outputs": [],
   "source": [
    "path_to_train_data = r'C:\\Users\\Viktor\\Documents\\IT\\ReservoirRockAnalysis\\data\\train-test\\balanced-train-data.xlsx'\n",
    "path_to_test_data = r'C:\\Users\\Viktor\\Documents\\IT\\ReservoirRockAnalysis\\data\\train-test\\balanced-test-data.xlsx'\n",
    "path_to_save_train = r'C:\\Users\\Viktor\\Documents\\IT\\ReservoirRockAnalysis\\data\\train-test\\ssl-train'\n",
    "path_to_save_test = r'C:\\Users\\Viktor\\Documents\\IT\\ReservoirRockAnalysis\\data\\train-test\\ssl-test'"
   ]
  },
  {
   "cell_type": "code",
   "execution_count": null,
   "id": "1c72c62d",
   "metadata": {},
   "outputs": [],
   "source": [
    "def apply_transforms(image_path, path_to_save, image_number=0):\n",
    "\n",
    "    image = read_img(image_path)\n",
    "    augmented_rgb = all_images_pipeline(image=image)['image']\n",
    "    rgb_after_gray = gray_images_pipeline(image=augmented_rgb)['image']\n",
    "    augmented_gray = cv2.cvtColor(rgb_after_gray, cv2.COLOR_RGB2GRAY)\n",
    "    name = os.path.basename(image_path)\n",
    "\n",
    "    image_filename = 'image' + str(image_number) + name\n",
    "    mask_filename = 'gray_image' + str(image_number) + name\n",
    "\n",
    "    output_image_path = path_to_save + \"\\\\\" + image_filename\n",
    "    output_mask_path =  path_to_save + \"\\\\\" + mask_filename\n",
    "\n",
    "    cv2.imwrite(output_image_path, augmented_rgb[:, :, ::-1])\n",
    "    cv2.imwrite(output_mask_path, augmented_gray)\n",
    "\n",
    "    return output_image_path, output_mask_path\n"
   ]
  },
  {
   "cell_type": "code",
   "execution_count": null,
   "id": "bd5808a6",
   "metadata": {},
   "outputs": [],
   "source": [
    "def save_test_data(image_path, path_to_save):\n",
    "    image = read_img(image_path)\n",
    "    gray_image = cv2.cvtColor(image, cv2.COLOR_RGB2GRAY)\n",
    "\n",
    "    name = os.path.basename(image_path)\n",
    "\n",
    "    image_filename = 'image' + name\n",
    "    mask_filename = 'gray_image' + name\n",
    "\n",
    "    output_image_path = path_to_save + \"\\\\\" + image_filename\n",
    "    output_mask_path =  path_to_save + \"\\\\\" + mask_filename\n",
    "\n",
    "    cv2.imwrite(output_image_path, image[:, :, ::-1])\n",
    "    cv2.imwrite(output_mask_path, gray_image)\n",
    "\n",
    "    return output_image_path, output_mask_path"
   ]
  },
  {
   "cell_type": "code",
   "execution_count": null,
   "id": "6cfef28a",
   "metadata": {},
   "outputs": [],
   "source": [
    "train_data = pd.read_excel(path_to_train_data)\n",
    "train_data"
   ]
  },
  {
   "cell_type": "code",
   "execution_count": null,
   "id": "19bd680e",
   "metadata": {},
   "outputs": [],
   "source": [
    "test_data = pd.read_excel(path_to_test_data)\n",
    "test_data"
   ]
  },
  {
   "cell_type": "code",
   "execution_count": null,
   "id": "b422b8ad",
   "metadata": {},
   "outputs": [],
   "source": [
    "# augmented_train = list()\n",
    "\n",
    "# for num in range(20):\n",
    "#     for mask_path in tqdm(train_data['name'], total=len(train_data)):\n",
    "#         image_path = mask_path.replace('masks', 'images')\n",
    "#         image_path, gray_image_path = apply_transforms(image_path, path_to_save_train, num)\n",
    "#         augmented_train.append((image_path, gray_image_path))"
   ]
  },
  {
   "cell_type": "code",
   "execution_count": null,
   "id": "b25759bd",
   "metadata": {},
   "outputs": [],
   "source": [
    "# augmented_train_df = pd.DataFrame(augmented_train)\n",
    "# augmented_train_df"
   ]
  },
  {
   "cell_type": "code",
   "execution_count": null,
   "id": "e005c807",
   "metadata": {},
   "outputs": [],
   "source": [
    "# augmented_train_df.to_excel(r'C:\\Users\\Viktor\\Documents\\IT\\ReservoirRockAnalysis\\data\\train-test\\ssl-train-data.xlsx')"
   ]
  },
  {
   "cell_type": "code",
   "execution_count": null,
   "id": "218137ae",
   "metadata": {},
   "outputs": [],
   "source": [
    "test = list()\n",
    "\n",
    "for mask_path in tqdm(test_data['name'], total=len(test_data)):\n",
    "    image_path = mask_path.replace('masks', 'images')\n",
    "    image_path, gray_image_path = save_test_data(image_path, path_to_save_test)\n",
    "    test.append((image_path, gray_image_path))"
   ]
  },
  {
   "cell_type": "code",
   "execution_count": null,
   "id": "2e43504f",
   "metadata": {},
   "outputs": [],
   "source": [
    "test_df = pd.DataFrame(test)\n",
    "test_df"
   ]
  },
  {
   "cell_type": "code",
   "execution_count": null,
   "id": "5c49becc",
   "metadata": {},
   "outputs": [],
   "source": [
    "test_df.to_excel(r'C:\\Users\\Viktor\\Documents\\IT\\ReservoirRockAnalysis\\data\\train-test\\ssl-test-data.xlsx')"
   ]
  }
 ],
 "metadata": {
  "language_info": {
   "name": "python"
  }
 },
 "nbformat": 4,
 "nbformat_minor": 5
}
